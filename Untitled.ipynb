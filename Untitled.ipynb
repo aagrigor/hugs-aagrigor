{
 "cells": [
  {
   "cell_type": "code",
   "execution_count": 1,
   "metadata": {},
   "outputs": [],
   "source": [
    "\"\"\"Contains a collection of basic calculations.\n",
    "\n",
    "These include:\n",
    "\n",
    "* wind components\n",
    "\n",
    "\"\"\"\n",
    "\n",
    "from __future__ import division\n",
    "\n",
    "import warnings\n",
    "import numpy as np\n",
    "\n",
    "\n",
    "def get_wind_speed(u, v):\n",
    "    r\"\"\"Compute the wind speed from u and v-components.\n",
    "\n",
    "    Parameters\n",
    "    ----------\n",
    "    u : array_like\n",
    "        Wind component in the X (East-West) direction\n",
    "    v : array_like\n",
    "        Wind component in the Y (North-South) direction\n",
    "\n",
    "    Returns\n",
    "    -------\n",
    "    wind speed: array_like\n",
    "        The speed of the wind\n",
    "\n",
    "    See Also\n",
    "    --------\n",
    "    get_wind_components\n",
    "\n",
    "    \"\"\"\n",
    "    speed = np.sqrt(u * u + v * v)\n",
    "    return speed\n",
    "\n",
    "\n",
    "def get_wind_dir(u, v):\n",
    "    r\"\"\"Compute the wind direction from u and v-components.\n",
    "\n",
    "    Parameters\n",
    "    ----------\n",
    "    u : array_like\n",
    "        Wind component in the X (East-West) direction\n",
    "    v : array_like\n",
    "        Wind component in the Y (North-South) direction\n",
    "\n",
    "    Returns\n",
    "    -------\n",
    "    wind direction: `pint.Quantity`\n",
    "        The direction of the wind, specified as the direction from\n",
    "        which it is blowing, with 0 being North.\n",
    "\n",
    "    See Also\n",
    "    --------\n",
    "    get_wind_components\n",
    "\n",
    "    \"\"\"\n",
    "    wdir = 90. - np.degrees(np.arctan2(-v, -u))\n",
    "    wdir[wdir < 0] += 360.\n",
    "    return wdir\n",
    "\n",
    "\n",
    "def get_wind_components(speed, wdir):\n",
    "    r\"\"\"Calculate the U, V wind vector components from the speed and direction.\n",
    "\n",
    "    Parameters\n",
    "    ----------\n",
    "    speed : array_like\n",
    "        The wind speed (magnitude)\n",
    "    wdir : array_like\n",
    "        The wind direction, specified as the direction from which the wind is\n",
    "        blowing, with 0 being North.\n",
    "\n",
    "    Returns\n",
    "    -------\n",
    "    u, v : tuple of array_like\n",
    "        The wind components in the X (East-West) and Y (North-South)\n",
    "        directions, respectively.\n",
    "\n",
    "    See Also\n",
    "    --------\n",
    "    get_wind_speed\n",
    "    get_wind_dir\n",
    "\n",
    "    \"\"\"\n",
    "    if wdir > 360:\n",
    "        warnings.warn('Wind direction greater than 360 degrees.')\n",
    "    wdir = np.radians(wdir)\n",
    "    u = -speed * np.sin(wdir)\n",
    "    v = -speed * np.cos(wdir)\n",
    "    return u, v\n"
   ]
  },
  {
   "cell_type": "code",
   "execution_count": 3,
   "metadata": {},
   "outputs": [
    {
     "data": {
      "text/plain": [
       "(-4.999999999999999, -8.660254037844387)"
      ]
     },
     "execution_count": 3,
     "metadata": {},
     "output_type": "execute_result"
    }
   ],
   "source": [
    "get_wind_components(10, 30)"
   ]
  },
  {
   "cell_type": "code",
   "execution_count": 4,
   "metadata": {},
   "outputs": [],
   "source": [
    "\"\"\"Test the `met` module.\"\"\"\n",
    "\n",
    "from hugs.calc import get_wind_dir, get_wind_speed\n",
    "\n",
    "import numpy as np\n",
    "from numpy.testing import assert_almost_equal, assert_array_almost_equal\n",
    "\n",
    "\n",
    "def test_speed():\n",
    "    \"\"\"Test calculating wind speed.\"\"\"\n",
    "    u = np.array([4., 2., 0., 0.])\n",
    "    v = np.array([0., 2., 4., 0.])\n",
    "\n",
    "    speed = get_wind_speed(u, v)\n",
    "\n",
    "    s2 = np.sqrt(2.)\n",
    "    true_speed = np.array([4., 2 * s2, 4., 0.])\n",
    "\n",
    "    assert_array_almost_equal(true_speed, speed, 4)\n",
    "\n",
    "\n",
    "def test_scalar_speed():\n",
    "    \"\"\"Test wind speed with scalars.\"\"\"\n",
    "    s = get_wind_speed(-3., -4.)\n",
    "    assert_almost_equal(s, 5., 3)\n",
    "\n",
    "\n",
    "def test_dir():\n",
    "    \"\"\"Test calculating wind direction.\"\"\"\n",
    "    u = np.array([4., 2., 0., 0.])\n",
    "    v = np.array([0., 2., 4., 0.])\n",
    "\n",
    "    direc = get_wind_dir(u, v)\n",
    "\n",
    "    true_dir = np.array([270., 225., 180., 270.])\n",
    "\n",
    "    assert_array_almost_equal(true_dir, direc, 4)\n"
   ]
  },
  {
   "cell_type": "code",
   "execution_count": 8,
   "metadata": {},
   "outputs": [
    {
     "name": "stdout",
     "output_type": "stream",
     "text": [
      "None\n"
     ]
    }
   ],
   "source": [
    "print(test_speed())"
   ]
  },
  {
   "cell_type": "code",
   "execution_count": 10,
   "metadata": {},
   "outputs": [
    {
     "data": {
      "text/plain": [
       "array([4.        , 2.82842712, 4.        , 0.        ])"
      ]
     },
     "execution_count": 10,
     "metadata": {},
     "output_type": "execute_result"
    }
   ],
   "source": [
    "get_wind_speed(np.array([4., 2., 0., 0.]), np.array([0., 2., 4., 0.]))"
   ]
  },
  {
   "cell_type": "code",
   "execution_count": 12,
   "metadata": {},
   "outputs": [],
   "source": [
    "test_scalar_speed()"
   ]
  },
  {
   "cell_type": "code",
   "execution_count": 13,
   "metadata": {},
   "outputs": [],
   "source": [
    "speed = np.array([4, 4, 4, 4, 25, 25, 25, 25, 10])"
   ]
  },
  {
   "cell_type": "code",
   "execution_count": 14,
   "metadata": {},
   "outputs": [
    {
     "data": {
      "text/plain": [
       "array([ 4,  4,  4,  4, 25, 25, 25, 25, 10])"
      ]
     },
     "execution_count": 14,
     "metadata": {},
     "output_type": "execute_result"
    }
   ],
   "source": [
    "speed"
   ]
  },
  {
   "cell_type": "code",
   "execution_count": 15,
   "metadata": {},
   "outputs": [],
   "source": [
    "dirs = np.array([0, 45, 90, 135, 180, 225, 270, 315, 360])"
   ]
  },
  {
   "cell_type": "code",
   "execution_count": 16,
   "metadata": {},
   "outputs": [],
   "source": [
    "s2 = np.sqrt(2.)"
   ]
  },
  {
   "cell_type": "code",
   "execution_count": 17,
   "metadata": {},
   "outputs": [
    {
     "data": {
      "text/plain": [
       "1.4142135623730951"
      ]
     },
     "execution_count": 17,
     "metadata": {},
     "output_type": "execute_result"
    }
   ],
   "source": [
    "s2"
   ]
  },
  {
   "cell_type": "code",
   "execution_count": 19,
   "metadata": {},
   "outputs": [],
   "source": [
    "true_u = np.array([0, -4 / s2, -4, -4 / s2, 0, 25 / s2, 25, 25 / s2, 0])"
   ]
  },
  {
   "cell_type": "code",
   "execution_count": 20,
   "metadata": {},
   "outputs": [
    {
     "data": {
      "text/plain": [
       "array([ 0.        , -2.82842712, -4.        , -2.82842712,  0.        ,\n",
       "       17.67766953, 25.        , 17.67766953,  0.        ])"
      ]
     },
     "execution_count": 20,
     "metadata": {},
     "output_type": "execute_result"
    }
   ],
   "source": [
    "true_u"
   ]
  },
  {
   "cell_type": "code",
   "execution_count": 21,
   "metadata": {},
   "outputs": [],
   "source": [
    "true_v = np.array([-4, -4 / s2, 0, 4 / s2, 25, 25 / s2, 0, -25 / s2, -10])"
   ]
  },
  {
   "cell_type": "code",
   "execution_count": 22,
   "metadata": {},
   "outputs": [
    {
     "data": {
      "text/plain": [
       "array([ -4.        ,  -2.82842712,   0.        ,   2.82842712,\n",
       "        25.        ,  17.67766953,   0.        , -17.67766953,\n",
       "       -10.        ])"
      ]
     },
     "execution_count": 22,
     "metadata": {},
     "output_type": "execute_result"
    }
   ],
   "source": [
    "true_v"
   ]
  },
  {
   "cell_type": "code",
   "execution_count": 23,
   "metadata": {},
   "outputs": [
    {
     "data": {
      "text/plain": [
       "6.283185307179586"
      ]
     },
     "execution_count": 23,
     "metadata": {},
     "output_type": "execute_result"
    }
   ],
   "source": [
    "np.radians(360)"
   ]
  },
  {
   "cell_type": "code",
   "execution_count": 24,
   "metadata": {},
   "outputs": [],
   "source": [
    "speed = np.array([4, 4, 4, 4, 25, 25, 25, 25, 10])"
   ]
  },
  {
   "cell_type": "code",
   "execution_count": 25,
   "metadata": {},
   "outputs": [
    {
     "data": {
      "text/plain": [
       "array([ 16,  16,  16,  16, 625, 625, 625, 625, 100])"
      ]
     },
     "execution_count": 25,
     "metadata": {},
     "output_type": "execute_result"
    }
   ],
   "source": [
    "speed*speed"
   ]
  },
  {
   "cell_type": "code",
   "execution_count": null,
   "metadata": {},
   "outputs": [],
   "source": []
  }
 ],
 "metadata": {
  "kernelspec": {
   "display_name": "Python 3",
   "language": "python",
   "name": "python3"
  },
  "language_info": {
   "codemirror_mode": {
    "name": "ipython",
    "version": 3
   },
   "file_extension": ".py",
   "mimetype": "text/x-python",
   "name": "python",
   "nbconvert_exporter": "python",
   "pygments_lexer": "ipython3",
   "version": "3.6.5"
  }
 },
 "nbformat": 4,
 "nbformat_minor": 2
}
